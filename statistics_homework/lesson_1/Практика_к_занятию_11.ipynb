{
 "cells": [
  {
   "cell_type": "markdown",
   "metadata": {
    "id": "pDrecLU-4QjS"
   },
   "source": [
    "# Практика"
   ]
  },
  {
   "cell_type": "markdown",
   "metadata": {
    "id": "gUvTNDlMaV-a"
   },
   "source": [
    "## Определение вероятности. События\n",
    "\n",
    "Требуется сгенерировать необходимые выборки и произвести по ним расчеты"
   ]
  },
  {
   "cell_type": "code",
   "execution_count": 15,
   "metadata": {},
   "outputs": [],
   "source": [
    "import pandas as pd\n",
    "import numpy as np\n",
    "import itertools\n",
    "import random\n",
    "from random import seed, randint\n",
    "import scipy.stats as sts\n",
    "from scipy.stats import bernoulli\n",
    "\n",
    "import seaborn as sns\n",
    "import matplotlib.pyplot as plt\n",
    "\n",
    "N = 90000 #размер выборки для повторений"
   ]
  },
  {
   "cell_type": "markdown",
   "metadata": {
    "id": "5V70InEBTgup"
   },
   "source": [
    "### Задача 1\n",
    "Брошено две монеты. Найти вероятность того, что монеты выпали разными сторонами"
   ]
  },
  {
   "cell_type": "code",
   "execution_count": 2,
   "metadata": {
    "id": "88Iw-SL3jYQV"
   },
   "outputs": [
    {
     "name": "stdout",
     "output_type": "stream",
     "text": [
      "Вероятность того, что монеты выпали разными сторонами -  0.4992888888888889\n"
     ]
    }
   ],
   "source": [
    "coin_1 = np.random.randint(0, 2, size=N)\n",
    "coin_2 = np.random.randint(0, 2, size=N)\n",
    "\n",
    "cases = pd.DataFrame(zip(coin_1, coin_2), columns=['Coin1', 'Coin2'])\n",
    "p = cases[cases['Coin1']!=cases['Coin2']].shape[0] / N\n",
    "print('Вероятность того, что монеты выпали разными сторонами - ', p)"
   ]
  },
  {
   "cell_type": "markdown",
   "metadata": {
    "id": "t0XOMos2Tl0e"
   },
   "source": [
    "### Задача 2\n",
    "Брошено три монеты. Описать множество всех элементарных событий. Найти вероятности следующих событий:\n",
    "\n",
    "\n",
    "1.   A = {не выпало ни одного герба}\n",
    "2.   B = {выпало четное число гербов}\n",
    "3.   C = {на третьей монете выпал герб}\n"
   ]
  },
  {
   "cell_type": "code",
   "execution_count": 3,
   "metadata": {
    "id": "o7NjAE9uUo-L"
   },
   "outputs": [
    {
     "name": "stdout",
     "output_type": "stream",
     "text": [
      "Вероятность А -  0.12241111111111111\n",
      "Вероятность B -  0.37614444444444445\n",
      "Вероятность C -  0.5014111111111111\n"
     ]
    }
   ],
   "source": [
    "coin_1 = np.random.randint(0, 2, size=N)\n",
    "coin_2 = np.random.randint(0, 2, size=N)\n",
    "coin_3 = np.random.randint(0, 2, size=N)\n",
    "\n",
    "cases = pd.DataFrame(zip(coin_1, coin_2, coin_3), columns=['Coin1', 'Coin2', 'Coin3'])\n",
    "\n",
    "a = cases[(cases['Coin1']!=0) & (cases['Coin2']!=0) & (cases['Coin3']!=0)].shape[0] / N\n",
    "b = cases[cases['Coin1'] + cases['Coin2'] + cases['Coin3'] == 2].shape[0] / N\n",
    "c = cases[cases['Coin3'] == 0].shape[0] / N\n",
    "print('Вероятность А - ', a)\n",
    "print('Вероятность B - ', b)\n",
    "print('Вероятность C - ', c)"
   ]
  },
  {
   "cell_type": "markdown",
   "metadata": {},
   "source": [
    "Предлагается также решить задачи: \n",
    "\n",
    "### Задача 3\n",
    "Из двух претендентов E и L на ответственную должность три члена комиссии должны отобрать одного. Каждый член комиссии должен указать либо одного достойного, либо забраковать обоих. Претендент считается выбранным, если он был признана достойным хотя бы двумя членами комиссии.\n",
    "Найти вероятность событий:\n",
    "\n",
    "A = {рекомендован L}, B = {рекомендован E}\n"
   ]
  },
  {
   "cell_type": "code",
   "execution_count": 4,
   "metadata": {},
   "outputs": [
    {
     "name": "stdout",
     "output_type": "stream",
     "text": [
      "Вероятность А -  0.2594\n",
      "Вероятность B -  0.26064444444444446\n"
     ]
    }
   ],
   "source": [
    "letters = ['E', 'L', 'O']\n",
    "\n",
    "vote_1 = np.random.choice(letters, size=N)\n",
    "vote_2 = np.random.choice(letters, size=N)\n",
    "vote_3 = np.random.choice(letters, size=N)\n",
    "\n",
    "votes = pd.DataFrame(zip(vote_1, vote_2, vote_3), columns=['vote1', 'vote2', 'vote3'])\n",
    "\n",
    "votes['E_sum'] = votes.loc[:, :'vote3'].eq('E').sum(axis=1)\n",
    "votes['L_sum'] = votes.loc[:, :'vote3'].eq('L').sum(axis=1)\n",
    "\n",
    "A = votes[votes['E_sum'] >= 2].shape[0] / N\n",
    "B = votes[votes['L_sum'] >= 2].shape[0] / N\n",
    "print('Вероятность А - ', A)\n",
    "print('Вероятность B - ', B)"
   ]
  },
  {
   "cell_type": "markdown",
   "metadata": {
    "id": "peM38mVfYa5B"
   },
   "source": [
    "### Задача 4\n",
    "Брошено две игральных кости. Описать множество элементарных событий. Найти вероятности событий:\n",
    "\n",
    "A = {вышло две \"шестерки\"}\n",
    "\n",
    "B = {сумма выпавших очков не меньше 11}\n",
    "\n",
    "C = {не выпала ни одна \"шестерка\"}"
   ]
  },
  {
   "cell_type": "code",
   "execution_count": 5,
   "metadata": {},
   "outputs": [
    {
     "name": "stdout",
     "output_type": "stream",
     "text": [
      "Вероятность А -  0.027444444444444445\n",
      "Вероятность B -  0.08353333333333333\n",
      "Вероятность C -  0.6953444444444444\n"
     ]
    }
   ],
   "source": [
    "dice_1 = np.random.randint(1, 7, size=N)\n",
    "dice_2 = np.random.randint(1, 7, size=N)\n",
    "\n",
    "rolls = pd.DataFrame(zip(dice_1, dice_2), columns=['dice1', 'dice2'])\n",
    "\n",
    "a = rolls[(rolls['dice1']== 6) & (rolls['dice2']== 6) ].shape[0] / N\n",
    "b = rolls[(rolls['dice1'] + rolls['dice2'] >= 11) ].shape[0] / N\n",
    "c = rolls[(rolls['dice1']!= 6) & (rolls['dice2']!= 6) ].shape[0] / N\n",
    "print('Вероятность А - ', a)\n",
    "print('Вероятность B - ', b)\n",
    "print('Вероятность C - ', c)\n",
    "\n"
   ]
  },
  {
   "cell_type": "markdown",
   "metadata": {
    "id": "f-Bi0p8haclB"
   },
   "source": [
    "## Вероятность суммы событий"
   ]
  },
  {
   "cell_type": "markdown",
   "metadata": {
    "id": "g7A7QlvGTnwZ"
   },
   "source": [
    "### Задача 5\n",
    "Брошены две игральные кости. Найти вероятность события D = {выпала хотя бы одна шестёрка}\n"
   ]
  },
  {
   "cell_type": "code",
   "execution_count": 6,
   "metadata": {
    "id": "vjtTJN-kUp9D"
   },
   "outputs": [
    {
     "name": "stdout",
     "output_type": "stream",
     "text": [
      "Вероятность D -  0.3066111111111111\n"
     ]
    }
   ],
   "source": [
    "dice_1 = np.random.randint(1, 7, size=N)\n",
    "dice_2 = np.random.randint(1, 7, size=N)\n",
    "\n",
    "rolls = pd.DataFrame(zip(dice_1, dice_2), columns=['dice1', 'dice2'])\n",
    "\n",
    "d = rolls[(rolls['dice1']== 6) | (rolls['dice2']== 6) ].shape[0] / N\n",
    "\n",
    "print('Вероятность D - ', d)"
   ]
  },
  {
   "cell_type": "markdown",
   "metadata": {
    "id": "R1bYSzQQbC6I"
   },
   "source": [
    "Предлагается также решить задачи: \n",
    "\n",
    "### Задача 6\n",
    "В телефонном номере три последние цифры стерлись. Считая, что все возможные значения стершихся цифр равновероятны, найти вероятность событий:\n",
    "\n",
    "A = {Стерлись различные цифры},\n",
    "\n",
    "B = {Стерлись одинаковые цифры},\n",
    "\n",
    "C = {Среди стершихся цифр хотя бы две совпадают},\n",
    "\n",
    "D = {Среди стершихся цифр хотя бы две различны}\n"
   ]
  },
  {
   "cell_type": "code",
   "execution_count": 7,
   "metadata": {},
   "outputs": [
    {
     "name": "stdout",
     "output_type": "stream",
     "text": [
      "Вероятность A -  0.7201666666666666\n",
      "Вероятность B -  0.010377777777777777\n",
      "Вероятность C -  0.2798333333333333\n",
      "Вероятность D -  0.9896222222222222\n"
     ]
    }
   ],
   "source": [
    "num_1 = np.random.randint(0, 10, size=N)\n",
    "num_2 = np.random.randint(0, 10, size=N)\n",
    "num_3 = np.random.randint(0, 10, size=N)\n",
    "\n",
    "nums = pd.DataFrame(zip(num_1, num_2,num_3), columns=['num1', 'num2', 'num3'])\n",
    "\n",
    "a = nums[ (nums['num1'] != nums['num2']) & (\n",
    "           nums['num1'] != nums['num3']) & (\n",
    "           nums['num2'] != nums['num3']) ].shape[0] / N\n",
    "\n",
    "b = nums[ (nums['num1'] == nums['num2']) & (\n",
    "           nums['num1'] == nums['num3']) & (\n",
    "           nums['num2'] == nums['num3']) ].shape[0] / N\n",
    "\n",
    "c = nums[ (nums['num1'] == nums['num2']) | (\n",
    "           nums['num1'] == nums['num3']) | (\n",
    "           nums['num2'] == nums['num3']) ].shape[0] / N\n",
    "\n",
    "d = nums[ (nums['num1'] != nums['num2']) | (\n",
    "           nums['num1'] != nums['num3']) | (\n",
    "           nums['num2'] != nums['num3']) ].shape[0] / N\n",
    "\n",
    "print('Вероятность A - ', a)\n",
    "print('Вероятность B - ', b)\n",
    "print('Вероятность C - ', c)\n",
    "print('Вероятность D - ', d)"
   ]
  },
  {
   "cell_type": "markdown",
   "metadata": {
    "id": "RnugkR8BalK_"
   },
   "source": [
    "## Случайные величины"
   ]
  },
  {
   "cell_type": "markdown",
   "metadata": {
    "id": "yLoZDZ17UVsp"
   },
   "source": [
    "### Задача 7\n",
    "В лотерее имеется 10 билетов, из которых один выигрышный. Размер выигрыша 10 ден. ед.; стоимость билета 1 ден ед. Найти закон распределения случайной величины X, равной чистому выигрышу участника лотереи, который вытаскивает билет первым."
   ]
  },
  {
   "cell_type": "code",
   "execution_count": 8,
   "metadata": {
    "id": "oNk432sKUqzT"
   },
   "outputs": [
    {
     "data": {
      "text/plain": [
       "array([0, 0, 0, 0, 0, 0, 0, 0, 0, 0])"
      ]
     },
     "execution_count": 8,
     "metadata": {},
     "output_type": "execute_result"
    },
    {
     "data": {
      "image/png": "[encoded data removed]",
      "text/plain": [
       "<Figure size 360x360 with 1 Axes>"
      ]
     },
     "metadata": {
      "needs_background": "light"
     },
     "output_type": "display_data"
    }
   ],
   "source": [
    "bernoulli_rv = sts.bernoulli(0.1) \n",
    "bernoulli_rv.rvs(10)\n",
    "\n",
    "data = bernoulli.rvs(size = 10 , p = 0.1)\n",
    "\n",
    "sns.displot(data, discrete=True)\n",
    "data"
   ]
  },
  {
   "cell_type": "markdown",
   "metadata": {
    "id": "U-NK9liSbpvb"
   },
   "source": [
    "Предлагается также решить задачу: \n",
    "\n",
    "### Задача 8\n",
    "Брошены две игральные кости. Найти закон распределения случайной величины $X$, равной сумме выпавших очков. Найти вероятности событий ${X <= 4}$, ${X > 4}$"
   ]
  },
  {
   "cell_type": "code",
   "execution_count": 24,
   "metadata": {},
   "outputs": [
    {
     "name": "stdout",
     "output_type": "stream",
     "text": [
      "Вероятность событий  𝑋<=4: 0.16666666666666666\n",
      "Вероятность событий  𝑋>4: 0.8333333333333333\n"
     ]
    }
   ],
   "source": [
    "df = sorted(itertools.product(['1', '2', '3', '4', '5', '6'], repeat=2))\n",
    "scores = []\n",
    "for i in df:\n",
    "    score = int(i[0]) + int(i[1])\n",
    "    scores.append(score)\n",
    "summs = set(sorted(scores))\n",
    "\n",
    "p={}\n",
    "for i in summs:\n",
    "    a = {j for j in df if int(j[0]) + int(j[1]) == i}\n",
    "    p[i] = len(a) / len(df)\n",
    "\n",
    "p = pd.DataFrame(list(p.items()),\n",
    "                   columns=['sum', 'prob'])\n",
    "p1 = p[p['sum']<=4]['prob'].sum()\n",
    "p2 = p[p['sum']>4]['prob'].sum()\n",
    "print('Вероятность событий  𝑋<=4:', p1)\n",
    "print('Вероятность событий  𝑋>4:', p2)"
   ]
  },
  {
   "cell_type": "markdown",
   "metadata": {
    "id": "shgW4D83awjK"
   },
   "source": [
    "## Условные вероятности"
   ]
  },
  {
   "cell_type": "markdown",
   "metadata": {
    "id": "Fbu1RFZwWZrk"
   },
   "source": [
    "### Задача 9\n",
    "Из колоды (36 карт) вынимают последовательно без возвращения две карты. Найти вероятность того, что первой картой была шестерка, а второй — семерка. Найти условную вероятность того же события при условии, что обе карты бубновой масти.\n"
   ]
  },
  {
   "cell_type": "code",
   "execution_count": 30,
   "metadata": {
    "id": "037o56awW9-E"
   },
   "outputs": [
    {
     "name": "stdout",
     "output_type": "stream",
     "text": [
      "вероятность того, что первой картой была шестерка, а второй — семерка 0.012698412698412697\n",
      "вероятность того, что первой картой была бубновая шестерка, а второй — бубновая семерка 0.0007936507936507935\n"
     ]
    }
   ],
   "source": [
    "A = (4/36) * (4/35)\n",
    "print ('вероятность того, что первой картой была шестерка, а второй — семерка', A)\n",
    "\n",
    "B = (1/36) * (1/35)\n",
    "print ('вероятность того, что первой картой была бубновая шестерка, а второй — бубновая семерка', B)"
   ]
  },
  {
   "cell_type": "markdown",
   "metadata": {
    "id": "hNVxtaz5c57b"
   },
   "source": [
    "Предлагается также решить задачу: \n",
    "\n",
    "### Задача 10\n",
    "Из урны, содержащей два белых и три черных шара, последовательно извлекают два шара; вынутые шары не возвращаются. Если первый шар оказался черным, то перед вторым извлечением в урну добавляют белый шар. В противном случае состав оставшихся шаров не меняют. Найти вероятности событий:\n",
    "\n",
    "$A$ = {извлечены два белых шара},\n",
    "\n",
    "$B$ = {извлечены два черных шара}\n",
    "\n",
    "Указание. Пусть событие $C_1$ = {первый шар белый}, событие $C_2$ = {второй шар белый}. Тогда $A = C_1C_2$, $B = \\overline C_1 \\overline C_2$ "
   ]
  },
  {
   "cell_type": "code",
   "execution_count": 39,
   "metadata": {
    "id": "WSLnhk2sdBt_"
   },
   "outputs": [
    {
     "name": "stdout",
     "output_type": "stream",
     "text": [
      "Вероятность А -  0.10067\n",
      "Вероятность B -  0.2385\n"
     ]
    }
   ],
   "source": [
    "black = 3\n",
    "white = 2\n",
    "\n",
    "ball1, ball2 = [], []\n",
    "for i in range(N):\n",
    "    BW = ['black' for b in range(black)] + ['white' for w in range(white)]\n",
    "    first_ball = np.random.choice(BW)\n",
    "    BW.remove(first_ball)\n",
    "    if first_ball == 'black':\n",
    "        BW.append('white')\n",
    "        ball1.append(first_ball)\n",
    "    elif first_ball == 'white':\n",
    "        ball1.append(first_ball)\n",
    "    second_ball = np.random.choice(BW)\n",
    "    ball2.append(second_ball)\n",
    "    \n",
    "df = pd.DataFrame(zip(ball1, ball2), columns=['ball1', 'ball2'])\n",
    "\n",
    "pA = df[(df['ball1'] == 'white') & (df['ball2'] == 'white')].shape[0] / N\n",
    "pB = df[(df['ball1'] == 'black') & (df['ball2'] == 'black')].shape[0] / N\n",
    "\n",
    "print('Вероятность А - ', pA)\n",
    "print('Вероятность B - ', pB)"
   ]
  },
  {
   "cell_type": "code",
   "execution_count": null,
   "metadata": {},
   "outputs": [],
   "source": []
  }
 ],
 "metadata": {
  "colab": {
   "collapsed_sections": [],
   "name": "Практика к занятию 11.ipynb",
   "provenance": []
  },
  "kernelspec": {
   "display_name": "Python 3",
   "language": "python",
   "name": "python3"
  },
  "language_info": {
   "codemirror_mode": {
    "name": "ipython",
    "version": 3
   },
   "file_extension": ".py",
   "mimetype": "text/x-python",
   "name": "python",
   "nbconvert_exporter": "python",
   "pygments_lexer": "ipython3",
   "version": "3.8.8"
  }
 },
 "nbformat": 4,
 "nbformat_minor": 1
}
